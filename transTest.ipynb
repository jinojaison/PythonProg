{
 "cells": [
  {
   "cell_type": "code",
   "execution_count": 1,
   "id": "438619f2-b8c5-4a43-b280-69233e2d954b",
   "metadata": {},
   "outputs": [
    {
     "name": "stdout",
     "output_type": "stream",
     "text": [
      "EMF = 44400.00\n",
      "Regulation = 75.00\n",
      "Efficiency = 57.14\n"
     ]
    }
   ],
   "source": [
    "from TransformerLib import *\n",
    "TransLib=TransformerLib()\n",
    "#print(TransLib.EMF)\n",
    "#print(TransLib.Eff)\n",
    "#print(TransLib.Regulation)\n",
    "\n",
    "\n",
    "TransLib.TransformerEMF(50, 200, 1)\n",
    "print(f'EMF = {TransLib.EMF:.2f}')\n",
    "\n",
    "TransLib.TransformerRegulation(4, 1)\n",
    "print(f'Regulation = {TransLib.Regulation:.2f}')\n",
    "\n",
    "\n",
    "TransLib.TransformerEfficiency(4, 1, 2)\n",
    "print(f'Efficiency = {TransLib.Eff:.2f}')"
   ]
  },
  {
   "cell_type": "code",
   "execution_count": null,
   "id": "7328daa4-a010-4c8b-a041-b1ab52738b7d",
   "metadata": {},
   "outputs": [],
   "source": []
  }
 ],
 "metadata": {
  "kernelspec": {
   "display_name": "Python 3 (ipykernel)",
   "language": "python",
   "name": "python3"
  },
  "language_info": {
   "codemirror_mode": {
    "name": "ipython",
    "version": 3
   },
   "file_extension": ".py",
   "mimetype": "text/x-python",
   "name": "python",
   "nbconvert_exporter": "python",
   "pygments_lexer": "ipython3",
   "version": "3.9.6"
  }
 },
 "nbformat": 4,
 "nbformat_minor": 5
}
